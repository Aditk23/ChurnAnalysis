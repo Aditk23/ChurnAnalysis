{
  "nbformat": 4,
  "nbformat_minor": 0,
  "metadata": {
    "colab": {
      "name": "ChurnAnalysis.ipynb",
      "provenance": [],
      "collapsed_sections": []
    },
    "kernelspec": {
      "name": "python3",
      "display_name": "Python 3"
    }
  },
  "cells": [
    {
      "cell_type": "code",
      "metadata": {
        "id": "NG7fIOeTbnAs"
      },
      "source": [
        "import tensorflow"
      ],
      "execution_count": 1,
      "outputs": []
    },
    {
      "cell_type": "code",
      "metadata": {
        "colab": {
          "base_uri": "https://localhost:8080/",
          "height": 35
        },
        "id": "SFlCN2YvY9Hk",
        "outputId": "5c8c65ba-b3ae-4cf0-d39b-eab62cc06741"
      },
      "source": [
        "tensorflow.__version__"
      ],
      "execution_count": 2,
      "outputs": [
        {
          "output_type": "execute_result",
          "data": {
            "application/vnd.google.colaboratory.intrinsic+json": {
              "type": "string"
            },
            "text/plain": [
              "'2.5.0'"
            ]
          },
          "metadata": {
            "tags": []
          },
          "execution_count": 2
        }
      ]
    },
    {
      "cell_type": "code",
      "metadata": {
        "id": "A-fy0z6KZFMq"
      },
      "source": [
        "import numpy as np\n",
        "import pandas as pd\n",
        "from sklearn.model_selection import train_test_split\n",
        "from sklearn.metrics import confusion_matrix\n",
        "import tensorflow\n",
        "from tensorflow.keras.models import Sequential\n",
        "from tensorflow.keras.layers import Dense,Dropout\n"
      ],
      "execution_count": 1,
      "outputs": []
    },
    {
      "cell_type": "code",
      "metadata": {
        "colab": {
          "base_uri": "https://localhost:8080/",
          "height": 224
        },
        "id": "b9qTdDycaDzt",
        "outputId": "6058532b-18bf-4e06-9db9-0e1be2eab9c8"
      },
      "source": [
        "data = pd.read_csv('Churn_Modelling.csv')\n",
        "data.head()"
      ],
      "execution_count": 2,
      "outputs": [
        {
          "output_type": "execute_result",
          "data": {
            "text/html": [
              "<div>\n",
              "<style scoped>\n",
              "    .dataframe tbody tr th:only-of-type {\n",
              "        vertical-align: middle;\n",
              "    }\n",
              "\n",
              "    .dataframe tbody tr th {\n",
              "        vertical-align: top;\n",
              "    }\n",
              "\n",
              "    .dataframe thead th {\n",
              "        text-align: right;\n",
              "    }\n",
              "</style>\n",
              "<table border=\"1\" class=\"dataframe\">\n",
              "  <thead>\n",
              "    <tr style=\"text-align: right;\">\n",
              "      <th></th>\n",
              "      <th>RowNumber</th>\n",
              "      <th>CustomerId</th>\n",
              "      <th>Surname</th>\n",
              "      <th>CreditScore</th>\n",
              "      <th>Geography</th>\n",
              "      <th>Gender</th>\n",
              "      <th>Age</th>\n",
              "      <th>Tenure</th>\n",
              "      <th>Balance</th>\n",
              "      <th>NumOfProducts</th>\n",
              "      <th>HasCrCard</th>\n",
              "      <th>IsActiveMember</th>\n",
              "      <th>EstimatedSalary</th>\n",
              "      <th>Exited</th>\n",
              "    </tr>\n",
              "  </thead>\n",
              "  <tbody>\n",
              "    <tr>\n",
              "      <th>0</th>\n",
              "      <td>1</td>\n",
              "      <td>15634602</td>\n",
              "      <td>Hargrave</td>\n",
              "      <td>619</td>\n",
              "      <td>France</td>\n",
              "      <td>Female</td>\n",
              "      <td>42</td>\n",
              "      <td>2</td>\n",
              "      <td>0.00</td>\n",
              "      <td>1</td>\n",
              "      <td>1</td>\n",
              "      <td>1</td>\n",
              "      <td>101348.88</td>\n",
              "      <td>1</td>\n",
              "    </tr>\n",
              "    <tr>\n",
              "      <th>1</th>\n",
              "      <td>2</td>\n",
              "      <td>15647311</td>\n",
              "      <td>Hill</td>\n",
              "      <td>608</td>\n",
              "      <td>Spain</td>\n",
              "      <td>Female</td>\n",
              "      <td>41</td>\n",
              "      <td>1</td>\n",
              "      <td>83807.86</td>\n",
              "      <td>1</td>\n",
              "      <td>0</td>\n",
              "      <td>1</td>\n",
              "      <td>112542.58</td>\n",
              "      <td>0</td>\n",
              "    </tr>\n",
              "    <tr>\n",
              "      <th>2</th>\n",
              "      <td>3</td>\n",
              "      <td>15619304</td>\n",
              "      <td>Onio</td>\n",
              "      <td>502</td>\n",
              "      <td>France</td>\n",
              "      <td>Female</td>\n",
              "      <td>42</td>\n",
              "      <td>8</td>\n",
              "      <td>159660.80</td>\n",
              "      <td>3</td>\n",
              "      <td>1</td>\n",
              "      <td>0</td>\n",
              "      <td>113931.57</td>\n",
              "      <td>1</td>\n",
              "    </tr>\n",
              "    <tr>\n",
              "      <th>3</th>\n",
              "      <td>4</td>\n",
              "      <td>15701354</td>\n",
              "      <td>Boni</td>\n",
              "      <td>699</td>\n",
              "      <td>France</td>\n",
              "      <td>Female</td>\n",
              "      <td>39</td>\n",
              "      <td>1</td>\n",
              "      <td>0.00</td>\n",
              "      <td>2</td>\n",
              "      <td>0</td>\n",
              "      <td>0</td>\n",
              "      <td>93826.63</td>\n",
              "      <td>0</td>\n",
              "    </tr>\n",
              "    <tr>\n",
              "      <th>4</th>\n",
              "      <td>5</td>\n",
              "      <td>15737888</td>\n",
              "      <td>Mitchell</td>\n",
              "      <td>850</td>\n",
              "      <td>Spain</td>\n",
              "      <td>Female</td>\n",
              "      <td>43</td>\n",
              "      <td>2</td>\n",
              "      <td>125510.82</td>\n",
              "      <td>1</td>\n",
              "      <td>1</td>\n",
              "      <td>1</td>\n",
              "      <td>79084.10</td>\n",
              "      <td>0</td>\n",
              "    </tr>\n",
              "  </tbody>\n",
              "</table>\n",
              "</div>"
            ],
            "text/plain": [
              "   RowNumber  CustomerId   Surname  ...  IsActiveMember EstimatedSalary Exited\n",
              "0          1    15634602  Hargrave  ...               1       101348.88      1\n",
              "1          2    15647311      Hill  ...               1       112542.58      0\n",
              "2          3    15619304      Onio  ...               0       113931.57      1\n",
              "3          4    15701354      Boni  ...               0        93826.63      0\n",
              "4          5    15737888  Mitchell  ...               1        79084.10      0\n",
              "\n",
              "[5 rows x 14 columns]"
            ]
          },
          "metadata": {
            "tags": []
          },
          "execution_count": 2
        }
      ]
    },
    {
      "cell_type": "code",
      "metadata": {
        "colab": {
          "base_uri": "https://localhost:8080/"
        },
        "id": "xh3ZkKyhbJLN",
        "outputId": "736b78e2-cf95-40cb-eed8-19d93db42841"
      },
      "source": [
        "data.isnull().sum()"
      ],
      "execution_count": 3,
      "outputs": [
        {
          "output_type": "execute_result",
          "data": {
            "text/plain": [
              "RowNumber          0\n",
              "CustomerId         0\n",
              "Surname            0\n",
              "CreditScore        0\n",
              "Geography          0\n",
              "Gender             0\n",
              "Age                0\n",
              "Tenure             0\n",
              "Balance            0\n",
              "NumOfProducts      0\n",
              "HasCrCard          0\n",
              "IsActiveMember     0\n",
              "EstimatedSalary    0\n",
              "Exited             0\n",
              "dtype: int64"
            ]
          },
          "metadata": {
            "tags": []
          },
          "execution_count": 3
        }
      ]
    },
    {
      "cell_type": "code",
      "metadata": {
        "colab": {
          "base_uri": "https://localhost:8080/"
        },
        "id": "vyN1NEltbUDb",
        "outputId": "78b7f9d7-5a1f-4185-cba2-f0620e49e0b3"
      },
      "source": [
        "data.info()"
      ],
      "execution_count": 4,
      "outputs": [
        {
          "output_type": "stream",
          "text": [
            "<class 'pandas.core.frame.DataFrame'>\n",
            "RangeIndex: 10000 entries, 0 to 9999\n",
            "Data columns (total 14 columns):\n",
            " #   Column           Non-Null Count  Dtype  \n",
            "---  ------           --------------  -----  \n",
            " 0   RowNumber        10000 non-null  int64  \n",
            " 1   CustomerId       10000 non-null  int64  \n",
            " 2   Surname          10000 non-null  object \n",
            " 3   CreditScore      10000 non-null  int64  \n",
            " 4   Geography        10000 non-null  object \n",
            " 5   Gender           10000 non-null  object \n",
            " 6   Age              10000 non-null  int64  \n",
            " 7   Tenure           10000 non-null  int64  \n",
            " 8   Balance          10000 non-null  float64\n",
            " 9   NumOfProducts    10000 non-null  int64  \n",
            " 10  HasCrCard        10000 non-null  int64  \n",
            " 11  IsActiveMember   10000 non-null  int64  \n",
            " 12  EstimatedSalary  10000 non-null  float64\n",
            " 13  Exited           10000 non-null  int64  \n",
            "dtypes: float64(2), int64(9), object(3)\n",
            "memory usage: 1.1+ MB\n"
          ],
          "name": "stdout"
        }
      ]
    },
    {
      "cell_type": "code",
      "metadata": {
        "id": "pWHTlo71cUiT"
      },
      "source": [
        "X = data.iloc[:,3:13]\n",
        "y = data.iloc[:,13]"
      ],
      "execution_count": 5,
      "outputs": []
    },
    {
      "cell_type": "code",
      "metadata": {
        "colab": {
          "base_uri": "https://localhost:8080/",
          "height": 224
        },
        "id": "2wKsVeQucjIy",
        "outputId": "d1110e33-b37d-497a-d952-405d5f0dbf9a"
      },
      "source": [
        "X = pd.get_dummies(X,prefix=['Geography','Gender'],drop_first=True)\n",
        "X.head()"
      ],
      "execution_count": 6,
      "outputs": [
        {
          "output_type": "execute_result",
          "data": {
            "text/html": [
              "<div>\n",
              "<style scoped>\n",
              "    .dataframe tbody tr th:only-of-type {\n",
              "        vertical-align: middle;\n",
              "    }\n",
              "\n",
              "    .dataframe tbody tr th {\n",
              "        vertical-align: top;\n",
              "    }\n",
              "\n",
              "    .dataframe thead th {\n",
              "        text-align: right;\n",
              "    }\n",
              "</style>\n",
              "<table border=\"1\" class=\"dataframe\">\n",
              "  <thead>\n",
              "    <tr style=\"text-align: right;\">\n",
              "      <th></th>\n",
              "      <th>CreditScore</th>\n",
              "      <th>Age</th>\n",
              "      <th>Tenure</th>\n",
              "      <th>Balance</th>\n",
              "      <th>NumOfProducts</th>\n",
              "      <th>HasCrCard</th>\n",
              "      <th>IsActiveMember</th>\n",
              "      <th>EstimatedSalary</th>\n",
              "      <th>Geography_Germany</th>\n",
              "      <th>Geography_Spain</th>\n",
              "      <th>Gender_Male</th>\n",
              "    </tr>\n",
              "  </thead>\n",
              "  <tbody>\n",
              "    <tr>\n",
              "      <th>0</th>\n",
              "      <td>619</td>\n",
              "      <td>42</td>\n",
              "      <td>2</td>\n",
              "      <td>0.00</td>\n",
              "      <td>1</td>\n",
              "      <td>1</td>\n",
              "      <td>1</td>\n",
              "      <td>101348.88</td>\n",
              "      <td>0</td>\n",
              "      <td>0</td>\n",
              "      <td>0</td>\n",
              "    </tr>\n",
              "    <tr>\n",
              "      <th>1</th>\n",
              "      <td>608</td>\n",
              "      <td>41</td>\n",
              "      <td>1</td>\n",
              "      <td>83807.86</td>\n",
              "      <td>1</td>\n",
              "      <td>0</td>\n",
              "      <td>1</td>\n",
              "      <td>112542.58</td>\n",
              "      <td>0</td>\n",
              "      <td>1</td>\n",
              "      <td>0</td>\n",
              "    </tr>\n",
              "    <tr>\n",
              "      <th>2</th>\n",
              "      <td>502</td>\n",
              "      <td>42</td>\n",
              "      <td>8</td>\n",
              "      <td>159660.80</td>\n",
              "      <td>3</td>\n",
              "      <td>1</td>\n",
              "      <td>0</td>\n",
              "      <td>113931.57</td>\n",
              "      <td>0</td>\n",
              "      <td>0</td>\n",
              "      <td>0</td>\n",
              "    </tr>\n",
              "    <tr>\n",
              "      <th>3</th>\n",
              "      <td>699</td>\n",
              "      <td>39</td>\n",
              "      <td>1</td>\n",
              "      <td>0.00</td>\n",
              "      <td>2</td>\n",
              "      <td>0</td>\n",
              "      <td>0</td>\n",
              "      <td>93826.63</td>\n",
              "      <td>0</td>\n",
              "      <td>0</td>\n",
              "      <td>0</td>\n",
              "    </tr>\n",
              "    <tr>\n",
              "      <th>4</th>\n",
              "      <td>850</td>\n",
              "      <td>43</td>\n",
              "      <td>2</td>\n",
              "      <td>125510.82</td>\n",
              "      <td>1</td>\n",
              "      <td>1</td>\n",
              "      <td>1</td>\n",
              "      <td>79084.10</td>\n",
              "      <td>0</td>\n",
              "      <td>1</td>\n",
              "      <td>0</td>\n",
              "    </tr>\n",
              "  </tbody>\n",
              "</table>\n",
              "</div>"
            ],
            "text/plain": [
              "   CreditScore  Age  Tenure  ...  Geography_Germany  Geography_Spain  Gender_Male\n",
              "0          619   42       2  ...                  0                0            0\n",
              "1          608   41       1  ...                  0                1            0\n",
              "2          502   42       8  ...                  0                0            0\n",
              "3          699   39       1  ...                  0                0            0\n",
              "4          850   43       2  ...                  0                1            0\n",
              "\n",
              "[5 rows x 11 columns]"
            ]
          },
          "metadata": {
            "tags": []
          },
          "execution_count": 6
        }
      ]
    },
    {
      "cell_type": "code",
      "metadata": {
        "id": "PZ2BW_-Lc8cD"
      },
      "source": [
        "X_train , X_test , y_train , y_test = train_test_split(X,y,test_size=0.2,random_state=365)"
      ],
      "execution_count": 7,
      "outputs": []
    },
    {
      "cell_type": "code",
      "metadata": {
        "id": "RYYNwpk_eVvT"
      },
      "source": [
        "from sklearn.preprocessing import StandardScaler\n",
        "\n",
        "sc = StandardScaler()\n",
        "X_train = sc.fit_transform(X_train)\n",
        "X_test = sc.transform(X_test)"
      ],
      "execution_count": 8,
      "outputs": []
    },
    {
      "cell_type": "code",
      "metadata": {
        "id": "wLjWSDVue4Nf"
      },
      "source": [
        "model = Sequential()\n",
        "# Hidden Layer\n",
        "model.add(Dense(200,activation='relu',kernel_initializer='he_normal'))\n",
        "model.add(Dropout(0.2))\n",
        "model.add(Dense(100,activation='relu',kernel_initializer='he_normal'))\n",
        "model.add(Dropout(0.2))\n",
        "model.add(Dense(50,activation='sigmoid',kernel_initializer='glorot_uniform'))\n",
        "model.add(Dropout(0.2))\n",
        "model.add(Dense(25,activation='relu',kernel_initializer='he_normal'))\n",
        "model.add(Dropout(0.2))\n",
        "model.add(Dense(12,activation='sigmoid',kernel_initializer='glorot_uniform'))\n",
        "model.add(Dropout(0.2))\n",
        "# Output layer\n",
        "model.add(Dense(1,activation='sigmoid'))"
      ],
      "execution_count": 24,
      "outputs": []
    },
    {
      "cell_type": "code",
      "metadata": {
        "id": "deODpND6gfQT"
      },
      "source": [
        "model.compile(optimizer='adam',loss='binary_crossentropy',metrics=['accuracy'])"
      ],
      "execution_count": 25,
      "outputs": []
    },
    {
      "cell_type": "code",
      "metadata": {
        "colab": {
          "base_uri": "https://localhost:8080/"
        },
        "id": "Hdo0a4k6gzWP",
        "outputId": "e2cdd076-2f6d-4229-a2ed-f568835a3ef7"
      },
      "source": [
        "history = model.fit(X_train,y_train,epochs=50 , batch_size=30 , validation_split=0.20)"
      ],
      "execution_count": 26,
      "outputs": [
        {
          "output_type": "stream",
          "text": [
            "Epoch 1/50\n",
            "214/214 [==============================] - 2s 5ms/step - loss: 0.5776 - accuracy: 0.7309 - val_loss: 0.4998 - val_accuracy: 0.7981\n",
            "Epoch 2/50\n",
            "214/214 [==============================] - 1s 3ms/step - loss: 0.4907 - accuracy: 0.7983 - val_loss: 0.4434 - val_accuracy: 0.8163\n",
            "Epoch 3/50\n",
            "214/214 [==============================] - 1s 3ms/step - loss: 0.4425 - accuracy: 0.8225 - val_loss: 0.4156 - val_accuracy: 0.8325\n",
            "Epoch 4/50\n",
            "214/214 [==============================] - 1s 3ms/step - loss: 0.4186 - accuracy: 0.8395 - val_loss: 0.4019 - val_accuracy: 0.8263\n",
            "Epoch 5/50\n",
            "214/214 [==============================] - 1s 3ms/step - loss: 0.3918 - accuracy: 0.8527 - val_loss: 0.3882 - val_accuracy: 0.8381\n",
            "Epoch 6/50\n",
            "214/214 [==============================] - 1s 3ms/step - loss: 0.3771 - accuracy: 0.8569 - val_loss: 0.3770 - val_accuracy: 0.8475\n",
            "Epoch 7/50\n",
            "214/214 [==============================] - 1s 3ms/step - loss: 0.3696 - accuracy: 0.8597 - val_loss: 0.3782 - val_accuracy: 0.8425\n",
            "Epoch 8/50\n",
            "214/214 [==============================] - 1s 4ms/step - loss: 0.3609 - accuracy: 0.8608 - val_loss: 0.3683 - val_accuracy: 0.8500\n",
            "Epoch 9/50\n",
            "214/214 [==============================] - 1s 3ms/step - loss: 0.3575 - accuracy: 0.8606 - val_loss: 0.3789 - val_accuracy: 0.8456\n",
            "Epoch 10/50\n",
            "214/214 [==============================] - 1s 3ms/step - loss: 0.3542 - accuracy: 0.8620 - val_loss: 0.3770 - val_accuracy: 0.8487\n",
            "Epoch 11/50\n",
            "214/214 [==============================] - 1s 3ms/step - loss: 0.3497 - accuracy: 0.8662 - val_loss: 0.3702 - val_accuracy: 0.8462\n",
            "Epoch 12/50\n",
            "214/214 [==============================] - 1s 3ms/step - loss: 0.3535 - accuracy: 0.8639 - val_loss: 0.3701 - val_accuracy: 0.8438\n",
            "Epoch 13/50\n",
            "214/214 [==============================] - 1s 3ms/step - loss: 0.3431 - accuracy: 0.8633 - val_loss: 0.3726 - val_accuracy: 0.8462\n",
            "Epoch 14/50\n",
            "214/214 [==============================] - 1s 3ms/step - loss: 0.3447 - accuracy: 0.8662 - val_loss: 0.3766 - val_accuracy: 0.8431\n",
            "Epoch 15/50\n",
            "214/214 [==============================] - 1s 4ms/step - loss: 0.3458 - accuracy: 0.8630 - val_loss: 0.3664 - val_accuracy: 0.8537\n",
            "Epoch 16/50\n",
            "214/214 [==============================] - 1s 3ms/step - loss: 0.3444 - accuracy: 0.8628 - val_loss: 0.3724 - val_accuracy: 0.8450\n",
            "Epoch 17/50\n",
            "214/214 [==============================] - 1s 3ms/step - loss: 0.3440 - accuracy: 0.8648 - val_loss: 0.3713 - val_accuracy: 0.8456\n",
            "Epoch 18/50\n",
            "214/214 [==============================] - 1s 3ms/step - loss: 0.3365 - accuracy: 0.8692 - val_loss: 0.3682 - val_accuracy: 0.8519\n",
            "Epoch 19/50\n",
            "214/214 [==============================] - 1s 3ms/step - loss: 0.3360 - accuracy: 0.8648 - val_loss: 0.3712 - val_accuracy: 0.8487\n",
            "Epoch 20/50\n",
            "214/214 [==============================] - 1s 3ms/step - loss: 0.3333 - accuracy: 0.8698 - val_loss: 0.3728 - val_accuracy: 0.8531\n",
            "Epoch 21/50\n",
            "214/214 [==============================] - 1s 3ms/step - loss: 0.3299 - accuracy: 0.8675 - val_loss: 0.3773 - val_accuracy: 0.8494\n",
            "Epoch 22/50\n",
            "214/214 [==============================] - 1s 3ms/step - loss: 0.3327 - accuracy: 0.8686 - val_loss: 0.3744 - val_accuracy: 0.8519\n",
            "Epoch 23/50\n",
            "214/214 [==============================] - 1s 3ms/step - loss: 0.3273 - accuracy: 0.8725 - val_loss: 0.3714 - val_accuracy: 0.8469\n",
            "Epoch 24/50\n",
            "214/214 [==============================] - 1s 3ms/step - loss: 0.3291 - accuracy: 0.8727 - val_loss: 0.3760 - val_accuracy: 0.8475\n",
            "Epoch 25/50\n",
            "214/214 [==============================] - 1s 3ms/step - loss: 0.3284 - accuracy: 0.8745 - val_loss: 0.3744 - val_accuracy: 0.8506\n",
            "Epoch 26/50\n",
            "214/214 [==============================] - 1s 3ms/step - loss: 0.3230 - accuracy: 0.8700 - val_loss: 0.3757 - val_accuracy: 0.8525\n",
            "Epoch 27/50\n",
            "214/214 [==============================] - 1s 3ms/step - loss: 0.3240 - accuracy: 0.8687 - val_loss: 0.3755 - val_accuracy: 0.8481\n",
            "Epoch 28/50\n",
            "214/214 [==============================] - 1s 3ms/step - loss: 0.3252 - accuracy: 0.8706 - val_loss: 0.3817 - val_accuracy: 0.8506\n",
            "Epoch 29/50\n",
            "214/214 [==============================] - 1s 3ms/step - loss: 0.3226 - accuracy: 0.8722 - val_loss: 0.3705 - val_accuracy: 0.8525\n",
            "Epoch 30/50\n",
            "214/214 [==============================] - 1s 3ms/step - loss: 0.3232 - accuracy: 0.8728 - val_loss: 0.3781 - val_accuracy: 0.8462\n",
            "Epoch 31/50\n",
            "214/214 [==============================] - 1s 3ms/step - loss: 0.3149 - accuracy: 0.8727 - val_loss: 0.3848 - val_accuracy: 0.8512\n",
            "Epoch 32/50\n",
            "214/214 [==============================] - 1s 3ms/step - loss: 0.3170 - accuracy: 0.8709 - val_loss: 0.3786 - val_accuracy: 0.8450\n",
            "Epoch 33/50\n",
            "214/214 [==============================] - 1s 3ms/step - loss: 0.3236 - accuracy: 0.8730 - val_loss: 0.3787 - val_accuracy: 0.8506\n",
            "Epoch 34/50\n",
            "214/214 [==============================] - 1s 3ms/step - loss: 0.3215 - accuracy: 0.8730 - val_loss: 0.3799 - val_accuracy: 0.8487\n",
            "Epoch 35/50\n",
            "214/214 [==============================] - 1s 3ms/step - loss: 0.3109 - accuracy: 0.8756 - val_loss: 0.3772 - val_accuracy: 0.8525\n",
            "Epoch 36/50\n",
            "214/214 [==============================] - 1s 3ms/step - loss: 0.3110 - accuracy: 0.8764 - val_loss: 0.3841 - val_accuracy: 0.8450\n",
            "Epoch 37/50\n",
            "214/214 [==============================] - 1s 3ms/step - loss: 0.3098 - accuracy: 0.8759 - val_loss: 0.3872 - val_accuracy: 0.8462\n",
            "Epoch 38/50\n",
            "214/214 [==============================] - 1s 3ms/step - loss: 0.3088 - accuracy: 0.8745 - val_loss: 0.3879 - val_accuracy: 0.8462\n",
            "Epoch 39/50\n",
            "214/214 [==============================] - 1s 3ms/step - loss: 0.3112 - accuracy: 0.8780 - val_loss: 0.3841 - val_accuracy: 0.8487\n",
            "Epoch 40/50\n",
            "214/214 [==============================] - 1s 3ms/step - loss: 0.3083 - accuracy: 0.8770 - val_loss: 0.3889 - val_accuracy: 0.8519\n",
            "Epoch 41/50\n",
            "214/214 [==============================] - 1s 3ms/step - loss: 0.3075 - accuracy: 0.8808 - val_loss: 0.3824 - val_accuracy: 0.8481\n",
            "Epoch 42/50\n",
            "214/214 [==============================] - 1s 3ms/step - loss: 0.2996 - accuracy: 0.8794 - val_loss: 0.3888 - val_accuracy: 0.8500\n",
            "Epoch 43/50\n",
            "214/214 [==============================] - 1s 3ms/step - loss: 0.2988 - accuracy: 0.8781 - val_loss: 0.3940 - val_accuracy: 0.8425\n",
            "Epoch 44/50\n",
            "214/214 [==============================] - 1s 3ms/step - loss: 0.3044 - accuracy: 0.8813 - val_loss: 0.3925 - val_accuracy: 0.8506\n",
            "Epoch 45/50\n",
            "214/214 [==============================] - 1s 3ms/step - loss: 0.3004 - accuracy: 0.8778 - val_loss: 0.3942 - val_accuracy: 0.8462\n",
            "Epoch 46/50\n",
            "214/214 [==============================] - 1s 3ms/step - loss: 0.2979 - accuracy: 0.8775 - val_loss: 0.3924 - val_accuracy: 0.8456\n",
            "Epoch 47/50\n",
            "214/214 [==============================] - 1s 3ms/step - loss: 0.3007 - accuracy: 0.8784 - val_loss: 0.3838 - val_accuracy: 0.8469\n",
            "Epoch 48/50\n",
            "214/214 [==============================] - 1s 3ms/step - loss: 0.2953 - accuracy: 0.8833 - val_loss: 0.3981 - val_accuracy: 0.8487\n",
            "Epoch 49/50\n",
            "214/214 [==============================] - 1s 3ms/step - loss: 0.3001 - accuracy: 0.8780 - val_loss: 0.4040 - val_accuracy: 0.8438\n",
            "Epoch 50/50\n",
            "214/214 [==============================] - 1s 3ms/step - loss: 0.3000 - accuracy: 0.8784 - val_loss: 0.4019 - val_accuracy: 0.8456\n"
          ],
          "name": "stdout"
        }
      ]
    },
    {
      "cell_type": "code",
      "metadata": {
        "colab": {
          "base_uri": "https://localhost:8080/"
        },
        "id": "pJtbvyQwb8xT",
        "outputId": "e11c7968-b869-459d-848d-1667d94d68a4"
      },
      "source": [
        "print(history.history.keys())"
      ],
      "execution_count": 27,
      "outputs": [
        {
          "output_type": "stream",
          "text": [
            "dict_keys(['loss', 'accuracy', 'val_loss', 'val_accuracy'])\n"
          ],
          "name": "stdout"
        }
      ]
    },
    {
      "cell_type": "code",
      "metadata": {
        "colab": {
          "base_uri": "https://localhost:8080/",
          "height": 298
        },
        "id": "GS68DOy_2Hs2",
        "outputId": "fe882de5-fb84-40fc-ea06-d92968ff61d0"
      },
      "source": [
        "import matplotlib.pyplot as plt\n",
        "\n",
        "plt.plot(history.history['accuracy'])\n",
        "plt.plot(history.history['val_accuracy'])\n",
        "plt.title('Model Accuracy')\n",
        "plt.ylabel('Accuracy')\n",
        "plt.ylabel('Epochs')\n",
        "plt.legend(['train','test'])"
      ],
      "execution_count": 28,
      "outputs": [
        {
          "output_type": "execute_result",
          "data": {
            "text/plain": [
              "<matplotlib.legend.Legend at 0x7ffaaa60b8d0>"
            ]
          },
          "metadata": {
            "tags": []
          },
          "execution_count": 28
        },
        {
          "output_type": "display_data",
          "data": {
            "image/png": "[encoded data removed]",
            "text/plain": [
              "<Figure size 432x288 with 1 Axes>"
            ]
          },
          "metadata": {
            "tags": [],
            "needs_background": "light"
          }
        }
      ]
    },
    {
      "cell_type": "code",
      "metadata": {
        "colab": {
          "base_uri": "https://localhost:8080/",
          "height": 298
        },
        "id": "eJ5oISZB2vmu",
        "outputId": "d8b2224e-1451-4e27-adb5-540a7545fb91"
      },
      "source": [
        "plt.plot(history.history['loss'])\n",
        "plt.plot(history.history['val_loss'])\n",
        "plt.title('Model Loss')\n",
        "plt.ylabel('Loss')\n",
        "plt.ylabel('Epochs')\n",
        "plt.legend(['train','test'])"
      ],
      "execution_count": 29,
      "outputs": [
        {
          "output_type": "execute_result",
          "data": {
            "text/plain": [
              "<matplotlib.legend.Legend at 0x7ffaa9583150>"
            ]
          },
          "metadata": {
            "tags": []
          },
          "execution_count": 29
        },
        {
          "output_type": "display_data",
          "data": {
            "image/png": "[encoded data removed]",
            "text/plain": [
              "<Figure size 432x288 with 1 Axes>"
            ]
          },
          "metadata": {
            "tags": [],
            "needs_background": "light"
          }
        }
      ]
    },
    {
      "cell_type": "code",
      "metadata": {
        "id": "bk8plY2m34bf"
      },
      "source": [
        "y_pred = model.predict(X_test)"
      ],
      "execution_count": 30,
      "outputs": []
    },
    {
      "cell_type": "code",
      "metadata": {
        "colab": {
          "base_uri": "https://localhost:8080/"
        },
        "id": "fwfbGGIW5Zj6",
        "outputId": "f9efed23-4964-41b2-b9f0-a3dcb39549d9"
      },
      "source": [
        "print(y_pred)"
      ],
      "execution_count": 31,
      "outputs": [
        {
          "output_type": "stream",
          "text": [
            "[[0.03449491]\n",
            " [0.03465647]\n",
            " [0.14425406]\n",
            " ...\n",
            " [0.3641389 ]\n",
            " [0.0159848 ]\n",
            " [0.39895973]]\n"
          ],
          "name": "stdout"
        }
      ]
    },
    {
      "cell_type": "code",
      "metadata": {
        "id": "f8JMYQk25b1r"
      },
      "source": [
        "y_pred = (y_pred>0.5)"
      ],
      "execution_count": 32,
      "outputs": []
    },
    {
      "cell_type": "code",
      "metadata": {
        "colab": {
          "base_uri": "https://localhost:8080/"
        },
        "id": "gUUY3a955sfZ",
        "outputId": "910442a8-2ba1-402a-b81a-f6d385b3c1d0"
      },
      "source": [
        "from sklearn.metrics import accuracy_score\n",
        "\n",
        "score = accuracy_score(y_pred,y_test)\n",
        "print(score)"
      ],
      "execution_count": 33,
      "outputs": [
        {
          "output_type": "stream",
          "text": [
            "0.859\n"
          ],
          "name": "stdout"
        }
      ]
    },
    {
      "cell_type": "code",
      "metadata": {
        "id": "KrsqjktZ56il"
      },
      "source": [
        "model.save(\"churn_86.h5\")"
      ],
      "execution_count": 36,
      "outputs": []
    },
    {
      "cell_type": "code",
      "metadata": {
        "colab": {
          "base_uri": "https://localhost:8080/"
        },
        "id": "V0dBue4t61bE",
        "outputId": "d3df2f85-7fb0-407b-9d4a-0259b0d7ba31"
      },
      "source": [
        "model.summary()"
      ],
      "execution_count": 35,
      "outputs": [
        {
          "output_type": "stream",
          "text": [
            "Model: \"sequential_4\"\n",
            "_________________________________________________________________\n",
            "Layer (type)                 Output Shape              Param #   \n",
            "=================================================================\n",
            "dense_9 (Dense)              (None, 200)               2400      \n",
            "_________________________________________________________________\n",
            "dropout_5 (Dropout)          (None, 200)               0         \n",
            "_________________________________________________________________\n",
            "dense_10 (Dense)             (None, 100)               20100     \n",
            "_________________________________________________________________\n",
            "dropout_6 (Dropout)          (None, 100)               0         \n",
            "_________________________________________________________________\n",
            "dense_11 (Dense)             (None, 50)                5050      \n",
            "_________________________________________________________________\n",
            "dropout_7 (Dropout)          (None, 50)                0         \n",
            "_________________________________________________________________\n",
            "dense_12 (Dense)             (None, 25)                1275      \n",
            "_________________________________________________________________\n",
            "dropout_8 (Dropout)          (None, 25)                0         \n",
            "_________________________________________________________________\n",
            "dense_13 (Dense)             (None, 12)                312       \n",
            "_________________________________________________________________\n",
            "dropout_9 (Dropout)          (None, 12)                0         \n",
            "_________________________________________________________________\n",
            "dense_14 (Dense)             (None, 1)                 13        \n",
            "=================================================================\n",
            "Total params: 29,150\n",
            "Trainable params: 29,150\n",
            "Non-trainable params: 0\n",
            "_________________________________________________________________\n"
          ],
          "name": "stdout"
        }
      ]
    },
    {
      "cell_type": "code",
      "metadata": {
        "id": "ztip7kUq_5fJ"
      },
      "source": [
        ""
      ],
      "execution_count": null,
      "outputs": []
    }
  ]
}
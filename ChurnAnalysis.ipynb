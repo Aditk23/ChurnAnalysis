{
  "nbformat": 4,
  "nbformat_minor": 0,
  "metadata": {
    "colab": {
      "name": "ChurnAnalysis.ipynb",
      "provenance": []
    },
    "kernelspec": {
      "name": "python3",
      "display_name": "Python 3"
    }
  },
  "cells": [
    {
      "cell_type": "code",
      "metadata": {
        "id": "NG7fIOeTbnAs"
      },
      "source": [
        "import tensorflow"
      ],
      "execution_count": 1,
      "outputs": []
    },
    {
      "cell_type": "code",
      "metadata": {
        "colab": {
          "base_uri": "https://localhost:8080/",
          "height": 35
        },
        "id": "SFlCN2YvY9Hk",
        "outputId": "5c8c65ba-b3ae-4cf0-d39b-eab62cc06741"
      },
      "source": [
        "tensorflow.__version__"
      ],
      "execution_count": 2,
      "outputs": [
        {
          "output_type": "execute_result",
          "data": {
            "application/vnd.google.colaboratory.intrinsic+json": {
              "type": "string"
            },
            "text/plain": [
              "'2.5.0'"
            ]
          },
          "metadata": {
            "tags": []
          },
          "execution_count": 2
        }
      ]
    },
    {
      "cell_type": "code",
      "metadata": {
        "id": "A-fy0z6KZFMq"
      },
      "source": [
        "import numpy as np\n",
        "import pandas as pd\n",
        "from sklearn.model_selection import train_test_split\n",
        "from sklearn.metrics import confusion_matrix\n",
        "import tensorflow\n",
        "from tensorflow.keras.models import Sequential\n",
        "from tensorflow.keras.layers import Dense\n"
      ],
      "execution_count": 3,
      "outputs": []
    },
    {
      "cell_type": "code",
      "metadata": {
        "colab": {
          "base_uri": "https://localhost:8080/",
          "height": 224
        },
        "id": "b9qTdDycaDzt",
        "outputId": "d4b23104-5d47-4c2f-b337-4dcdf5b5c3ac"
      },
      "source": [
        "data = pd.read_csv('Churn_Modelling.csv')\n",
        "data.head()"
      ],
      "execution_count": 4,
      "outputs": [
        {
          "output_type": "execute_result",
          "data": {
            "text/html": [
              "<div>\n",
              "<style scoped>\n",
              "    .dataframe tbody tr th:only-of-type {\n",
              "        vertical-align: middle;\n",
              "    }\n",
              "\n",
              "    .dataframe tbody tr th {\n",
              "        vertical-align: top;\n",
              "    }\n",
              "\n",
              "    .dataframe thead th {\n",
              "        text-align: right;\n",
              "    }\n",
              "</style>\n",
              "<table border=\"1\" class=\"dataframe\">\n",
              "  <thead>\n",
              "    <tr style=\"text-align: right;\">\n",
              "      <th></th>\n",
              "      <th>RowNumber</th>\n",
              "      <th>CustomerId</th>\n",
              "      <th>Surname</th>\n",
              "      <th>CreditScore</th>\n",
              "      <th>Geography</th>\n",
              "      <th>Gender</th>\n",
              "      <th>Age</th>\n",
              "      <th>Tenure</th>\n",
              "      <th>Balance</th>\n",
              "      <th>NumOfProducts</th>\n",
              "      <th>HasCrCard</th>\n",
              "      <th>IsActiveMember</th>\n",
              "      <th>EstimatedSalary</th>\n",
              "      <th>Exited</th>\n",
              "    </tr>\n",
              "  </thead>\n",
              "  <tbody>\n",
              "    <tr>\n",
              "      <th>0</th>\n",
              "      <td>1</td>\n",
              "      <td>15634602</td>\n",
              "      <td>Hargrave</td>\n",
              "      <td>619</td>\n",
              "      <td>France</td>\n",
              "      <td>Female</td>\n",
              "      <td>42</td>\n",
              "      <td>2</td>\n",
              "      <td>0.00</td>\n",
              "      <td>1</td>\n",
              "      <td>1</td>\n",
              "      <td>1</td>\n",
              "      <td>101348.88</td>\n",
              "      <td>1</td>\n",
              "    </tr>\n",
              "    <tr>\n",
              "      <th>1</th>\n",
              "      <td>2</td>\n",
              "      <td>15647311</td>\n",
              "      <td>Hill</td>\n",
              "      <td>608</td>\n",
              "      <td>Spain</td>\n",
              "      <td>Female</td>\n",
              "      <td>41</td>\n",
              "      <td>1</td>\n",
              "      <td>83807.86</td>\n",
              "      <td>1</td>\n",
              "      <td>0</td>\n",
              "      <td>1</td>\n",
              "      <td>112542.58</td>\n",
              "      <td>0</td>\n",
              "    </tr>\n",
              "    <tr>\n",
              "      <th>2</th>\n",
              "      <td>3</td>\n",
              "      <td>15619304</td>\n",
              "      <td>Onio</td>\n",
              "      <td>502</td>\n",
              "      <td>France</td>\n",
              "      <td>Female</td>\n",
              "      <td>42</td>\n",
              "      <td>8</td>\n",
              "      <td>159660.80</td>\n",
              "      <td>3</td>\n",
              "      <td>1</td>\n",
              "      <td>0</td>\n",
              "      <td>113931.57</td>\n",
              "      <td>1</td>\n",
              "    </tr>\n",
              "    <tr>\n",
              "      <th>3</th>\n",
              "      <td>4</td>\n",
              "      <td>15701354</td>\n",
              "      <td>Boni</td>\n",
              "      <td>699</td>\n",
              "      <td>France</td>\n",
              "      <td>Female</td>\n",
              "      <td>39</td>\n",
              "      <td>1</td>\n",
              "      <td>0.00</td>\n",
              "      <td>2</td>\n",
              "      <td>0</td>\n",
              "      <td>0</td>\n",
              "      <td>93826.63</td>\n",
              "      <td>0</td>\n",
              "    </tr>\n",
              "    <tr>\n",
              "      <th>4</th>\n",
              "      <td>5</td>\n",
              "      <td>15737888</td>\n",
              "      <td>Mitchell</td>\n",
              "      <td>850</td>\n",
              "      <td>Spain</td>\n",
              "      <td>Female</td>\n",
              "      <td>43</td>\n",
              "      <td>2</td>\n",
              "      <td>125510.82</td>\n",
              "      <td>1</td>\n",
              "      <td>1</td>\n",
              "      <td>1</td>\n",
              "      <td>79084.10</td>\n",
              "      <td>0</td>\n",
              "    </tr>\n",
              "  </tbody>\n",
              "</table>\n",
              "</div>"
            ],
            "text/plain": [
              "   RowNumber  CustomerId   Surname  ...  IsActiveMember EstimatedSalary Exited\n",
              "0          1    15634602  Hargrave  ...               1       101348.88      1\n",
              "1          2    15647311      Hill  ...               1       112542.58      0\n",
              "2          3    15619304      Onio  ...               0       113931.57      1\n",
              "3          4    15701354      Boni  ...               0        93826.63      0\n",
              "4          5    15737888  Mitchell  ...               1        79084.10      0\n",
              "\n",
              "[5 rows x 14 columns]"
            ]
          },
          "metadata": {
            "tags": []
          },
          "execution_count": 4
        }
      ]
    },
    {
      "cell_type": "code",
      "metadata": {
        "colab": {
          "base_uri": "https://localhost:8080/"
        },
        "id": "xh3ZkKyhbJLN",
        "outputId": "fc6274f0-3bc3-47aa-a23f-11aac5cd710d"
      },
      "source": [
        "data.isnull().sum()"
      ],
      "execution_count": 5,
      "outputs": [
        {
          "output_type": "execute_result",
          "data": {
            "text/plain": [
              "RowNumber          0\n",
              "CustomerId         0\n",
              "Surname            0\n",
              "CreditScore        0\n",
              "Geography          0\n",
              "Gender             0\n",
              "Age                0\n",
              "Tenure             0\n",
              "Balance            0\n",
              "NumOfProducts      0\n",
              "HasCrCard          0\n",
              "IsActiveMember     0\n",
              "EstimatedSalary    0\n",
              "Exited             0\n",
              "dtype: int64"
            ]
          },
          "metadata": {
            "tags": []
          },
          "execution_count": 5
        }
      ]
    },
    {
      "cell_type": "code",
      "metadata": {
        "colab": {
          "base_uri": "https://localhost:8080/"
        },
        "id": "vyN1NEltbUDb",
        "outputId": "bf375b1b-f87d-4541-db91-19c32c0bbc9f"
      },
      "source": [
        "data.info()"
      ],
      "execution_count": 6,
      "outputs": [
        {
          "output_type": "stream",
          "text": [
            "<class 'pandas.core.frame.DataFrame'>\n",
            "RangeIndex: 10000 entries, 0 to 9999\n",
            "Data columns (total 14 columns):\n",
            " #   Column           Non-Null Count  Dtype  \n",
            "---  ------           --------------  -----  \n",
            " 0   RowNumber        10000 non-null  int64  \n",
            " 1   CustomerId       10000 non-null  int64  \n",
            " 2   Surname          10000 non-null  object \n",
            " 3   CreditScore      10000 non-null  int64  \n",
            " 4   Geography        10000 non-null  object \n",
            " 5   Gender           10000 non-null  object \n",
            " 6   Age              10000 non-null  int64  \n",
            " 7   Tenure           10000 non-null  int64  \n",
            " 8   Balance          10000 non-null  float64\n",
            " 9   NumOfProducts    10000 non-null  int64  \n",
            " 10  HasCrCard        10000 non-null  int64  \n",
            " 11  IsActiveMember   10000 non-null  int64  \n",
            " 12  EstimatedSalary  10000 non-null  float64\n",
            " 13  Exited           10000 non-null  int64  \n",
            "dtypes: float64(2), int64(9), object(3)\n",
            "memory usage: 1.1+ MB\n"
          ],
          "name": "stdout"
        }
      ]
    },
    {
      "cell_type": "code",
      "metadata": {
        "id": "pWHTlo71cUiT"
      },
      "source": [
        "X = data.iloc[:,3:13]\n",
        "y = data.iloc[:,13]"
      ],
      "execution_count": 7,
      "outputs": []
    },
    {
      "cell_type": "code",
      "metadata": {
        "colab": {
          "base_uri": "https://localhost:8080/",
          "height": 224
        },
        "id": "2wKsVeQucjIy",
        "outputId": "84c82f7c-af25-4de1-e7b1-fc761918794d"
      },
      "source": [
        "X = pd.get_dummies(X,prefix=['Geography','Gender'],drop_first=True)\n",
        "X.head()"
      ],
      "execution_count": 8,
      "outputs": [
        {
          "output_type": "execute_result",
          "data": {
            "text/html": [
              "<div>\n",
              "<style scoped>\n",
              "    .dataframe tbody tr th:only-of-type {\n",
              "        vertical-align: middle;\n",
              "    }\n",
              "\n",
              "    .dataframe tbody tr th {\n",
              "        vertical-align: top;\n",
              "    }\n",
              "\n",
              "    .dataframe thead th {\n",
              "        text-align: right;\n",
              "    }\n",
              "</style>\n",
              "<table border=\"1\" class=\"dataframe\">\n",
              "  <thead>\n",
              "    <tr style=\"text-align: right;\">\n",
              "      <th></th>\n",
              "      <th>CreditScore</th>\n",
              "      <th>Age</th>\n",
              "      <th>Tenure</th>\n",
              "      <th>Balance</th>\n",
              "      <th>NumOfProducts</th>\n",
              "      <th>HasCrCard</th>\n",
              "      <th>IsActiveMember</th>\n",
              "      <th>EstimatedSalary</th>\n",
              "      <th>Geography_Germany</th>\n",
              "      <th>Geography_Spain</th>\n",
              "      <th>Gender_Male</th>\n",
              "    </tr>\n",
              "  </thead>\n",
              "  <tbody>\n",
              "    <tr>\n",
              "      <th>0</th>\n",
              "      <td>619</td>\n",
              "      <td>42</td>\n",
              "      <td>2</td>\n",
              "      <td>0.00</td>\n",
              "      <td>1</td>\n",
              "      <td>1</td>\n",
              "      <td>1</td>\n",
              "      <td>101348.88</td>\n",
              "      <td>0</td>\n",
              "      <td>0</td>\n",
              "      <td>0</td>\n",
              "    </tr>\n",
              "    <tr>\n",
              "      <th>1</th>\n",
              "      <td>608</td>\n",
              "      <td>41</td>\n",
              "      <td>1</td>\n",
              "      <td>83807.86</td>\n",
              "      <td>1</td>\n",
              "      <td>0</td>\n",
              "      <td>1</td>\n",
              "      <td>112542.58</td>\n",
              "      <td>0</td>\n",
              "      <td>1</td>\n",
              "      <td>0</td>\n",
              "    </tr>\n",
              "    <tr>\n",
              "      <th>2</th>\n",
              "      <td>502</td>\n",
              "      <td>42</td>\n",
              "      <td>8</td>\n",
              "      <td>159660.80</td>\n",
              "      <td>3</td>\n",
              "      <td>1</td>\n",
              "      <td>0</td>\n",
              "      <td>113931.57</td>\n",
              "      <td>0</td>\n",
              "      <td>0</td>\n",
              "      <td>0</td>\n",
              "    </tr>\n",
              "    <tr>\n",
              "      <th>3</th>\n",
              "      <td>699</td>\n",
              "      <td>39</td>\n",
              "      <td>1</td>\n",
              "      <td>0.00</td>\n",
              "      <td>2</td>\n",
              "      <td>0</td>\n",
              "      <td>0</td>\n",
              "      <td>93826.63</td>\n",
              "      <td>0</td>\n",
              "      <td>0</td>\n",
              "      <td>0</td>\n",
              "    </tr>\n",
              "    <tr>\n",
              "      <th>4</th>\n",
              "      <td>850</td>\n",
              "      <td>43</td>\n",
              "      <td>2</td>\n",
              "      <td>125510.82</td>\n",
              "      <td>1</td>\n",
              "      <td>1</td>\n",
              "      <td>1</td>\n",
              "      <td>79084.10</td>\n",
              "      <td>0</td>\n",
              "      <td>1</td>\n",
              "      <td>0</td>\n",
              "    </tr>\n",
              "  </tbody>\n",
              "</table>\n",
              "</div>"
            ],
            "text/plain": [
              "   CreditScore  Age  Tenure  ...  Geography_Germany  Geography_Spain  Gender_Male\n",
              "0          619   42       2  ...                  0                0            0\n",
              "1          608   41       1  ...                  0                1            0\n",
              "2          502   42       8  ...                  0                0            0\n",
              "3          699   39       1  ...                  0                0            0\n",
              "4          850   43       2  ...                  0                1            0\n",
              "\n",
              "[5 rows x 11 columns]"
            ]
          },
          "metadata": {
            "tags": []
          },
          "execution_count": 8
        }
      ]
    },
    {
      "cell_type": "code",
      "metadata": {
        "id": "PZ2BW_-Lc8cD"
      },
      "source": [
        "X_train , X_test , y_train , y_test = train_test_split(X,y,test_size=0.2,random_state=365)"
      ],
      "execution_count": 9,
      "outputs": []
    },
    {
      "cell_type": "code",
      "metadata": {
        "id": "RYYNwpk_eVvT"
      },
      "source": [
        "from sklearn.preprocessing import StandardScaler\n",
        "\n",
        "sc = StandardScaler()\n",
        "X_train = sc.fit_transform(X_train)\n",
        "X_test = sc.transform(X_test)"
      ],
      "execution_count": 10,
      "outputs": []
    },
    {
      "cell_type": "code",
      "metadata": {
        "id": "wLjWSDVue4Nf"
      },
      "source": [
        "model = Sequential()\n",
        "# Hidden Layer\n",
        "model.add(Dense(200,activation='relu'))\n",
        "model.add(Dense(150,activation='sigmoid'))\n",
        "model.add(Dense(110,activation='relu'))\n",
        "model.add(Dense(90,activation='relu'))\n",
        "# Output layer\n",
        "model.add(Dense(1,activation='sigmoid'))"
      ],
      "execution_count": 18,
      "outputs": []
    },
    {
      "cell_type": "code",
      "metadata": {
        "id": "deODpND6gfQT"
      },
      "source": [
        "model.compile(optimizer='sgd',loss='binary_crossentropy',metrics=['accuracy'])"
      ],
      "execution_count": 19,
      "outputs": []
    },
    {
      "cell_type": "code",
      "metadata": {
        "colab": {
          "base_uri": "https://localhost:8080/"
        },
        "id": "Hdo0a4k6gzWP",
        "outputId": "5b7967f4-95a7-46f5-86f8-eb9912c8dc13"
      },
      "source": [
        "history = model.fit(X_train,y_train,epochs=50 , batch_size=30 , validation_split=0.20)"
      ],
      "execution_count": 20,
      "outputs": [
        {
          "output_type": "stream",
          "text": [
            "Epoch 1/50\n",
            "214/214 [==============================] - 1s 3ms/step - loss: 0.5067 - accuracy: 0.7967 - val_loss: 0.4982 - val_accuracy: 0.7981\n",
            "Epoch 2/50\n",
            "214/214 [==============================] - 0s 2ms/step - loss: 0.4982 - accuracy: 0.7967 - val_loss: 0.4953 - val_accuracy: 0.7981\n",
            "Epoch 3/50\n",
            "214/214 [==============================] - 0s 2ms/step - loss: 0.4933 - accuracy: 0.7967 - val_loss: 0.4939 - val_accuracy: 0.7981\n",
            "Epoch 4/50\n",
            "214/214 [==============================] - 0s 2ms/step - loss: 0.4879 - accuracy: 0.7967 - val_loss: 0.4832 - val_accuracy: 0.7981\n",
            "Epoch 5/50\n",
            "214/214 [==============================] - 0s 2ms/step - loss: 0.4795 - accuracy: 0.7967 - val_loss: 0.4762 - val_accuracy: 0.7981\n",
            "Epoch 6/50\n",
            "214/214 [==============================] - 0s 2ms/step - loss: 0.4696 - accuracy: 0.7966 - val_loss: 0.4777 - val_accuracy: 0.7981\n",
            "Epoch 7/50\n",
            "214/214 [==============================] - 0s 2ms/step - loss: 0.4580 - accuracy: 0.7978 - val_loss: 0.4523 - val_accuracy: 0.7975\n",
            "Epoch 8/50\n",
            "214/214 [==============================] - 0s 2ms/step - loss: 0.4445 - accuracy: 0.8019 - val_loss: 0.4422 - val_accuracy: 0.8019\n",
            "Epoch 9/50\n",
            "214/214 [==============================] - 0s 2ms/step - loss: 0.4346 - accuracy: 0.8108 - val_loss: 0.4355 - val_accuracy: 0.8050\n",
            "Epoch 10/50\n",
            "214/214 [==============================] - 0s 2ms/step - loss: 0.4270 - accuracy: 0.8156 - val_loss: 0.4479 - val_accuracy: 0.8006\n",
            "Epoch 11/50\n",
            "214/214 [==============================] - 0s 2ms/step - loss: 0.4217 - accuracy: 0.8158 - val_loss: 0.4295 - val_accuracy: 0.8081\n",
            "Epoch 12/50\n",
            "214/214 [==============================] - 0s 2ms/step - loss: 0.4181 - accuracy: 0.8186 - val_loss: 0.4315 - val_accuracy: 0.8087\n",
            "Epoch 13/50\n",
            "214/214 [==============================] - 0s 2ms/step - loss: 0.4135 - accuracy: 0.8231 - val_loss: 0.4356 - val_accuracy: 0.8056\n",
            "Epoch 14/50\n",
            "214/214 [==============================] - 0s 2ms/step - loss: 0.4101 - accuracy: 0.8231 - val_loss: 0.4261 - val_accuracy: 0.8181\n",
            "Epoch 15/50\n",
            "214/214 [==============================] - 0s 2ms/step - loss: 0.4066 - accuracy: 0.8252 - val_loss: 0.4514 - val_accuracy: 0.7981\n",
            "Epoch 16/50\n",
            "214/214 [==============================] - 0s 2ms/step - loss: 0.4029 - accuracy: 0.8277 - val_loss: 0.4197 - val_accuracy: 0.8175\n",
            "Epoch 17/50\n",
            "214/214 [==============================] - 0s 2ms/step - loss: 0.3998 - accuracy: 0.8258 - val_loss: 0.4197 - val_accuracy: 0.8238\n",
            "Epoch 18/50\n",
            "214/214 [==============================] - 0s 2ms/step - loss: 0.3949 - accuracy: 0.8298 - val_loss: 0.4161 - val_accuracy: 0.8225\n",
            "Epoch 19/50\n",
            "214/214 [==============================] - 0s 2ms/step - loss: 0.3901 - accuracy: 0.8358 - val_loss: 0.4098 - val_accuracy: 0.8281\n",
            "Epoch 20/50\n",
            "214/214 [==============================] - 0s 2ms/step - loss: 0.3864 - accuracy: 0.8383 - val_loss: 0.4099 - val_accuracy: 0.8281\n",
            "Epoch 21/50\n",
            "214/214 [==============================] - 0s 2ms/step - loss: 0.3807 - accuracy: 0.8411 - val_loss: 0.4104 - val_accuracy: 0.8344\n",
            "Epoch 22/50\n",
            "214/214 [==============================] - 0s 2ms/step - loss: 0.3764 - accuracy: 0.8403 - val_loss: 0.4037 - val_accuracy: 0.8388\n",
            "Epoch 23/50\n",
            "214/214 [==============================] - 0s 2ms/step - loss: 0.3706 - accuracy: 0.8467 - val_loss: 0.3928 - val_accuracy: 0.8356\n",
            "Epoch 24/50\n",
            "214/214 [==============================] - 0s 2ms/step - loss: 0.3640 - accuracy: 0.8508 - val_loss: 0.3886 - val_accuracy: 0.8394\n",
            "Epoch 25/50\n",
            "214/214 [==============================] - 0s 2ms/step - loss: 0.3607 - accuracy: 0.8522 - val_loss: 0.3879 - val_accuracy: 0.8344\n",
            "Epoch 26/50\n",
            "214/214 [==============================] - 0s 2ms/step - loss: 0.3566 - accuracy: 0.8556 - val_loss: 0.3842 - val_accuracy: 0.8344\n",
            "Epoch 27/50\n",
            "214/214 [==============================] - 0s 2ms/step - loss: 0.3530 - accuracy: 0.8556 - val_loss: 0.3823 - val_accuracy: 0.8469\n",
            "Epoch 28/50\n",
            "214/214 [==============================] - 0s 2ms/step - loss: 0.3502 - accuracy: 0.8580 - val_loss: 0.3786 - val_accuracy: 0.8419\n",
            "Epoch 29/50\n",
            "214/214 [==============================] - 0s 2ms/step - loss: 0.3490 - accuracy: 0.8553 - val_loss: 0.3940 - val_accuracy: 0.8206\n",
            "Epoch 30/50\n",
            "214/214 [==============================] - 0s 2ms/step - loss: 0.3474 - accuracy: 0.8577 - val_loss: 0.3805 - val_accuracy: 0.8475\n",
            "Epoch 31/50\n",
            "214/214 [==============================] - 0s 2ms/step - loss: 0.3433 - accuracy: 0.8609 - val_loss: 0.3787 - val_accuracy: 0.8363\n",
            "Epoch 32/50\n",
            "214/214 [==============================] - 0s 2ms/step - loss: 0.3431 - accuracy: 0.8622 - val_loss: 0.3779 - val_accuracy: 0.8444\n",
            "Epoch 33/50\n",
            "214/214 [==============================] - 0s 2ms/step - loss: 0.3432 - accuracy: 0.8592 - val_loss: 0.3769 - val_accuracy: 0.8419\n",
            "Epoch 34/50\n",
            "214/214 [==============================] - 0s 2ms/step - loss: 0.3409 - accuracy: 0.8616 - val_loss: 0.4275 - val_accuracy: 0.8369\n",
            "Epoch 35/50\n",
            "214/214 [==============================] - 0s 2ms/step - loss: 0.3413 - accuracy: 0.8598 - val_loss: 0.4019 - val_accuracy: 0.8450\n",
            "Epoch 36/50\n",
            "214/214 [==============================] - 0s 2ms/step - loss: 0.3399 - accuracy: 0.8572 - val_loss: 0.3894 - val_accuracy: 0.8494\n",
            "Epoch 37/50\n",
            "214/214 [==============================] - 0s 2ms/step - loss: 0.3404 - accuracy: 0.8581 - val_loss: 0.3755 - val_accuracy: 0.8413\n",
            "Epoch 38/50\n",
            "214/214 [==============================] - 0s 2ms/step - loss: 0.3381 - accuracy: 0.8605 - val_loss: 0.5124 - val_accuracy: 0.7437\n",
            "Epoch 39/50\n",
            "214/214 [==============================] - 0s 2ms/step - loss: 0.3401 - accuracy: 0.8603 - val_loss: 0.3763 - val_accuracy: 0.8363\n",
            "Epoch 40/50\n",
            "214/214 [==============================] - 0s 2ms/step - loss: 0.3352 - accuracy: 0.8633 - val_loss: 0.3792 - val_accuracy: 0.8338\n",
            "Epoch 41/50\n",
            "214/214 [==============================] - 0s 2ms/step - loss: 0.3351 - accuracy: 0.8611 - val_loss: 0.3754 - val_accuracy: 0.8419\n",
            "Epoch 42/50\n",
            "214/214 [==============================] - 0s 2ms/step - loss: 0.3368 - accuracy: 0.8628 - val_loss: 0.3772 - val_accuracy: 0.8406\n",
            "Epoch 43/50\n",
            "214/214 [==============================] - 0s 2ms/step - loss: 0.3353 - accuracy: 0.8630 - val_loss: 0.3856 - val_accuracy: 0.8494\n",
            "Epoch 44/50\n",
            "214/214 [==============================] - 0s 2ms/step - loss: 0.3334 - accuracy: 0.8667 - val_loss: 0.3850 - val_accuracy: 0.8306\n",
            "Epoch 45/50\n",
            "214/214 [==============================] - 0s 2ms/step - loss: 0.3344 - accuracy: 0.8600 - val_loss: 0.3776 - val_accuracy: 0.8356\n",
            "Epoch 46/50\n",
            "214/214 [==============================] - 0s 2ms/step - loss: 0.3343 - accuracy: 0.8648 - val_loss: 0.3777 - val_accuracy: 0.8487\n",
            "Epoch 47/50\n",
            "214/214 [==============================] - 0s 2ms/step - loss: 0.3338 - accuracy: 0.8631 - val_loss: 0.3890 - val_accuracy: 0.8300\n",
            "Epoch 48/50\n",
            "214/214 [==============================] - 0s 2ms/step - loss: 0.3322 - accuracy: 0.8644 - val_loss: 0.3752 - val_accuracy: 0.8450\n",
            "Epoch 49/50\n",
            "214/214 [==============================] - 0s 2ms/step - loss: 0.3333 - accuracy: 0.8650 - val_loss: 0.3762 - val_accuracy: 0.8456\n",
            "Epoch 50/50\n",
            "214/214 [==============================] - 0s 2ms/step - loss: 0.3313 - accuracy: 0.8634 - val_loss: 0.3736 - val_accuracy: 0.8388\n"
          ],
          "name": "stdout"
        }
      ]
    },
    {
      "cell_type": "code",
      "metadata": {
        "colab": {
          "base_uri": "https://localhost:8080/"
        },
        "id": "pJtbvyQwb8xT",
        "outputId": "b6d02c60-229a-4300-f35a-570e2cbf9827"
      },
      "source": [
        "print(history.history.keys())"
      ],
      "execution_count": 21,
      "outputs": [
        {
          "output_type": "stream",
          "text": [
            "dict_keys(['loss', 'accuracy', 'val_loss', 'val_accuracy'])\n"
          ],
          "name": "stdout"
        }
      ]
    },
    {
      "cell_type": "code",
      "metadata": {
        "colab": {
          "base_uri": "https://localhost:8080/",
          "height": 298
        },
        "id": "GS68DOy_2Hs2",
        "outputId": "37883531-9b11-4a99-c02d-e02fa1503ff9"
      },
      "source": [
        "import matplotlib.pyplot as plt\n",
        "\n",
        "plt.plot(history.history['accuracy'])\n",
        "plt.plot(history.history['val_accuracy'])\n",
        "plt.title('Model Accuracy')\n",
        "plt.ylabel('Accuracy')\n",
        "plt.ylabel('Epochs')\n",
        "plt.legend(['train','test'])"
      ],
      "execution_count": 22,
      "outputs": [
        {
          "output_type": "execute_result",
          "data": {
            "text/plain": [
              "<matplotlib.legend.Legend at 0x7fa4473f8350>"
            ]
          },
          "metadata": {
            "tags": []
          },
          "execution_count": 22
        },
        {
          "output_type": "display_data",
          "data": {
            "image/png": "[encoded data removed]",
            "text/plain": [
              "<Figure size 432x288 with 1 Axes>"
            ]
          },
          "metadata": {
            "tags": [],
            "needs_background": "light"
          }
        }
      ]
    },
    {
      "cell_type": "code",
      "metadata": {
        "colab": {
          "base_uri": "https://localhost:8080/",
          "height": 298
        },
        "id": "eJ5oISZB2vmu",
        "outputId": "695528f6-0766-4c77-bb55-f5b678fcc250"
      },
      "source": [
        "plt.plot(history.history['loss'])\n",
        "plt.plot(history.history['val_loss'])\n",
        "plt.title('Model Loss')\n",
        "plt.ylabel('Loss')\n",
        "plt.ylabel('Epochs')\n",
        "plt.legend(['train','test'])"
      ],
      "execution_count": 23,
      "outputs": [
        {
          "output_type": "execute_result",
          "data": {
            "text/plain": [
              "<matplotlib.legend.Legend at 0x7fa4463b3250>"
            ]
          },
          "metadata": {
            "tags": []
          },
          "execution_count": 23
        },
        {
          "output_type": "display_data",
          "data": {
            "image/png": "[encoded data removed]",
            "text/plain": [
              "<Figure size 432x288 with 1 Axes>"
            ]
          },
          "metadata": {
            "tags": [],
            "needs_background": "light"
          }
        }
      ]
    },
    {
      "cell_type": "code",
      "metadata": {
        "id": "bk8plY2m34bf"
      },
      "source": [
        "y_pred = model.predict(X_test)"
      ],
      "execution_count": 24,
      "outputs": []
    },
    {
      "cell_type": "code",
      "metadata": {
        "colab": {
          "base_uri": "https://localhost:8080/"
        },
        "id": "fwfbGGIW5Zj6",
        "outputId": "6c141296-82cc-42a3-ced3-5b3845e582c2"
      },
      "source": [
        "print(y_pred)"
      ],
      "execution_count": 25,
      "outputs": [
        {
          "output_type": "stream",
          "text": [
            "[[0.05217451]\n",
            " [0.00701466]\n",
            " [0.16375223]\n",
            " ...\n",
            " [0.21339512]\n",
            " [0.01260826]\n",
            " [0.5109838 ]]\n"
          ],
          "name": "stdout"
        }
      ]
    },
    {
      "cell_type": "code",
      "metadata": {
        "id": "f8JMYQk25b1r"
      },
      "source": [
        "y_pred = (y_pred>0.5)"
      ],
      "execution_count": 26,
      "outputs": []
    },
    {
      "cell_type": "code",
      "metadata": {
        "colab": {
          "base_uri": "https://localhost:8080/"
        },
        "id": "gUUY3a955sfZ",
        "outputId": "b159863b-9483-426b-f7aa-18fdd0a27d9c"
      },
      "source": [
        "from sklearn.metrics import accuracy_score\n",
        "\n",
        "score = accuracy_score(y_pred,y_test)\n",
        "print(score)"
      ],
      "execution_count": 27,
      "outputs": [
        {
          "output_type": "stream",
          "text": [
            "0.855\n"
          ],
          "name": "stdout"
        }
      ]
    },
    {
      "cell_type": "code",
      "metadata": {
        "id": "KrsqjktZ56il"
      },
      "source": [
        "model.save(\"churn_85.h5\")"
      ],
      "execution_count": 30,
      "outputs": []
    },
    {
      "cell_type": "code",
      "metadata": {
        "id": "V0dBue4t61bE"
      },
      "source": [
        ""
      ],
      "execution_count": null,
      "outputs": []
    }
  ]
}